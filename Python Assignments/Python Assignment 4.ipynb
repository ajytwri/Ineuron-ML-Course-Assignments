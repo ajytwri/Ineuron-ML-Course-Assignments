{
  "nbformat": 4,
  "nbformat_minor": 0,
  "metadata": {
    "colab": {
      "name": "Untitled0.ipynb",
      "provenance": [],
      "authorship_tag": "ABX9TyM/dK/TFORM8Cr7waErE9Aj"
    },
    "kernelspec": {
      "name": "python3",
      "display_name": "Python 3"
    }
  },
  "cells": [
    {
      "cell_type": "markdown",
      "metadata": {
        "id": "7en6Z5th_2LR"
      },
      "source": [
        "1.1 Write a Python Program(with class concepts) to find the area of the triangle using the below\r\n",
        "formula."
      ]
    },
    {
      "cell_type": "markdown",
      "metadata": {
        "id": "DNUVRL1DADH4"
      },
      "source": [
        "area = (s*(s-a)*(s-b)*(s-c)) ** 0.5\r\n",
        "Function to take the length of the sides of triangle from user should be defined in the parent\r\n",
        "class and function to calculate the area should be defined in subclass."
      ]
    },
    {
      "cell_type": "code",
      "metadata": {
        "colab": {
          "base_uri": "https://localhost:8080/"
        },
        "id": "u_CZCjASAD9Q",
        "outputId": "638db781-5797-42bf-de58-e339e9347c48"
      },
      "source": [
        "class polygon:\r\n",
        "    def __init__(self,a,b,c):\r\n",
        "        self.a = float(a)\r\n",
        "        self.b = float(b)\r\n",
        "        self.c = float(c)\r\n",
        "\r\n",
        "class triangle(polygon):\r\n",
        "    def __init__(self,a,b,c):\r\n",
        "        super().__init__(a,b,c)\r\n",
        "\r\n",
        "    def CalculateArea(self):\r\n",
        "        s = (a + b + c) / 2\r\n",
        "        return (s*(s-a)*(s-b)*(s-c)) ** 0.5        \r\n",
        "\r\n",
        "a= int(input(\"a=\"))\r\n",
        "b= int(input(\"b=\"))\r\n",
        "c= int(input(\"c=\"))\r\n",
        "t = triangle(a,b,c)\r\n",
        "area = t.CalculateArea()\r\n",
        "print(\"Area of Triangle : \",area)"
      ],
      "execution_count": 6,
      "outputs": [
        {
          "output_type": "stream",
          "text": [
            "a=4\n",
            "b=3\n",
            "c=3\n",
            "Area of Triangle :  4.47213595499958\n"
          ],
          "name": "stdout"
        }
      ]
    },
    {
      "cell_type": "markdown",
      "metadata": {
        "id": "0WOhmquHDSei"
      },
      "source": [
        "1.2 Write a function filter_long_words() that takes a list of words and an integer n and returns\r\n",
        "the list of words that are longer than n."
      ]
    },
    {
      "cell_type": "code",
      "metadata": {
        "colab": {
          "base_uri": "https://localhost:8080/"
        },
        "id": "bfynI7cJDXUH",
        "outputId": "54cdda25-1272-48b5-c518-8c19911c22ed"
      },
      "source": [
        "def filter_long_words(wordList, n):  \r\n",
        "    wordlength = []  \r\n",
        "    words = wordList.split(\" \")  \r\n",
        "    for x in words:  \r\n",
        "        if len(x) > n:  \r\n",
        "            wordlength.append(x)  \r\n",
        "    return wordlength   \r\n",
        "print(filter_long_words(\"list of words and an integer n and returns the list of words that are longer than n\",4))  "
      ],
      "execution_count": 10,
      "outputs": [
        {
          "output_type": "stream",
          "text": [
            "['words', 'integer', 'returns', 'words', 'longer']\n"
          ],
          "name": "stdout"
        }
      ]
    },
    {
      "cell_type": "markdown",
      "metadata": {
        "id": "YTl8CaLpEwFK"
      },
      "source": [
        "2.1 Write a Python program using function concept that maps list of words into a list of integers\r\n",
        "representing the lengths of the corresponding words.\r\n",
        "Hint: If a list [ ab,cde,erty] is passed on to the python function output should come as [2,3,4]\r\n",
        "Here 2,3 and 4 are the lengths of the words in the list."
      ]
    },
    {
      "cell_type": "code",
      "metadata": {
        "colab": {
          "base_uri": "https://localhost:8080/"
        },
        "id": "GFXn5F5LEzOp",
        "outputId": "0f456c61-9c83-4573-935d-e3074bccac18"
      },
      "source": [
        "def calculate_words_length(wordList):  \r\n",
        "    wordlength = []  \r\n",
        "    for x in wordList:  \r\n",
        "        wordlength.append(len(x))  \r\n",
        "    return wordlength \r\n",
        "\r\n",
        "ListOfWords = [\"list\",\"of\",\"words\",\"and\",\"an\",\"integer\"]\r\n",
        "print(calculate_words_length(ListOfWords))"
      ],
      "execution_count": 13,
      "outputs": [
        {
          "output_type": "stream",
          "text": [
            "[4, 2, 5, 3, 2, 7]\n"
          ],
          "name": "stdout"
        }
      ]
    },
    {
      "cell_type": "markdown",
      "metadata": {
        "id": "Y4y0BOOcGEnk"
      },
      "source": [
        "2.2 Write a Python function which takes a character (i.e. a string of length 1) and returns True if\r\n",
        "it is a vowel, False otherwise."
      ]
    },
    {
      "cell_type": "code",
      "metadata": {
        "colab": {
          "base_uri": "https://localhost:8080/"
        },
        "id": "IfYN0nvUGHph",
        "outputId": "cc30dd4a-6811-4dda-b3ae-bf0b63aaa7d2"
      },
      "source": [
        "def checkvowels(ch):\r\n",
        "  if(not ch.isalpha() or len(ch)>1):\r\n",
        "    return False\r\n",
        "  elif(ch=='A' or ch=='a' or ch=='E' or ch =='e' or ch=='I' or ch=='i' or ch=='O' or ch=='o' or ch=='U' or ch=='u'):\r\n",
        "    return True\r\n",
        "  else:\r\n",
        "    return False\r\n",
        "\r\n",
        "ch = input(\"Enter a character: \")\r\n",
        "checkvowels(ch)"
      ],
      "execution_count": 25,
      "outputs": [
        {
          "output_type": "stream",
          "text": [
            "Enter a character: i\n"
          ],
          "name": "stdout"
        },
        {
          "output_type": "execute_result",
          "data": {
            "text/plain": [
              "True"
            ]
          },
          "metadata": {
            "tags": []
          },
          "execution_count": 25
        }
      ]
    }
  ]
}