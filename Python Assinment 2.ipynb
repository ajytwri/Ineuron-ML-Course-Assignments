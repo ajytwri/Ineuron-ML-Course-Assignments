{
 "cells": [
  {
   "cell_type": "markdown",
   "metadata": {},
   "source": [
    "# Python Assinment 2"
   ]
  },
  {
   "cell_type": "code",
   "execution_count": null,
   "metadata": {},
   "outputs": [],
   "source": [
    "# 1. Create the below pattern using nested for loop in Python. \n",
    "\n",
    "* \n",
    "* * \n",
    "* * * \n",
    "* * * * \n",
    "* * * * * \n",
    "* * * * \n",
    "* * * \n",
    "* * \n",
    "* "
   ]
  },
  {
   "cell_type": "code",
   "execution_count": 4,
   "metadata": {},
   "outputs": [
    {
     "name": "stdout",
     "output_type": "stream",
     "text": [
      "\r\n",
      "\r\n",
      "* \r\n",
      "* * \r\n",
      "* * * \r\n",
      "* * * * \r\n",
      "* * * * * \r\n",
      "* * * * \r\n",
      "* * * \r\n",
      "* * \r\n",
      "* "
     ]
    }
   ],
   "source": [
    "for i in range(0,5):\n",
    "    print(\"\\r\")\n",
    "    for j in range (0,i):\n",
    "        print(\"* \", end=\"\")\n",
    "for i in range(5,0,-1):\n",
    "    print(\"\\r\")\n",
    "    for j in range (0,i):\n",
    "        print(\"* \", end=\"\")"
   ]
  },
  {
   "cell_type": "markdown",
   "metadata": {},
   "source": [
    "# 2. Write a Python program to reverse a word after accepting the input from the user. "
   ]
  },
  {
   "cell_type": "code",
   "execution_count": 18,
   "metadata": {},
   "outputs": [
    {
     "name": "stdout",
     "output_type": "stream",
     "text": [
      "Enter a word\n",
      "neuron\n",
      "Reverse of word : noruen\n"
     ]
    }
   ],
   "source": [
    "print(\"Enter a word\")\n",
    "ans = input()\n",
    "print(\"Reverse of word : \" + ans[::-1])"
   ]
  },
  {
   "cell_type": "markdown",
   "metadata": {},
   "source": [
    "# 3. Write a program which accepts a sequence of comma-separated numbers from console  and generate a list. "
   ]
  },
  {
   "cell_type": "code",
   "execution_count": 3,
   "metadata": {},
   "outputs": [
    {
     "name": "stdout",
     "output_type": "stream",
     "text": [
      "Enter some comma-seprated numbers : 1,2,3,4,5,6\n",
      "['1', '2', '3', '4', '5', '6']\n"
     ]
    }
   ],
   "source": [
    "values = input(\"Enter some comma-seprated numbers : \")\n",
    "lst = values.split(\",\")\n",
    "print(lst)"
   ]
  },
  {
   "cell_type": "code",
   "execution_count": null,
   "metadata": {},
   "outputs": [],
   "source": []
  }
 ],
 "metadata": {
  "kernelspec": {
   "display_name": "Python 3",
   "language": "python",
   "name": "python3"
  },
  "language_info": {
   "codemirror_mode": {
    "name": "ipython",
    "version": 3
   },
   "file_extension": ".py",
   "mimetype": "text/x-python",
   "name": "python",
   "nbconvert_exporter": "python",
   "pygments_lexer": "ipython3",
   "version": "3.8.5"
  }
 },
 "nbformat": 4,
 "nbformat_minor": 4
}
